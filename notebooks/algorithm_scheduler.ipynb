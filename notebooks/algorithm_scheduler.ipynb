{
  "cells": [
    {
      "cell_type": "markdown",
      "metadata": {},
      "source": [
        "# Robot Scheduling Algorithm Development\n",
        "\n",
        "This notebook provides a development environment for creating and comparing robot scheduling algorithms for the robot.\n",
        "\n",
        "## Features:\n",
        "- Test case generation and management\n",
        "- Algorithm comparison and evaluation\n",
        "- Performance visualization\n",
        "- Results analysis and reporting\n"
      ]
    },
    {
      "cell_type": "code",
      "execution_count": null,
      "metadata": {},
      "outputs": [],
      "source": [
        "# Import required modules\n",
        "import sys\n",
        "sys.path.append('/app')\n",
        "\n",
        "from src.testing import TestRunner, TestCaseBuilder\n",
        "from src.algorithms.simple_scheduler import SimpleScheduler\n",
        "from src.algorithms.milp.milp_scheduler import MILPScheduler\n",
        "from src.common.visualization import ScheduleVisualizer, GanttChart\n",
        "import matplotlib.pyplot as plt\n",
        "import pandas as pd\n",
        "\n",
        "print(\"All modules imported successfully!\")\n"
      ]
    }
  ],
  "metadata": {
    "language_info": {
      "name": "python"
    }
  },
  "nbformat": 4,
  "nbformat_minor": 2
}
